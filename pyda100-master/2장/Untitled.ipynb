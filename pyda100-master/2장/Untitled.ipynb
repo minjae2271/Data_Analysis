{
 "cells": [
  {
   "cell_type": "code",
   "execution_count": 1,
   "metadata": {},
   "outputs": [],
   "source": [
    "import pandas as pd"
   ]
  },
  {
   "cell_type": "code",
   "execution_count": 3,
   "metadata": {},
   "outputs": [
    {
     "data": {
      "text/html": [
       "<div>\n",
       "<style scoped>\n",
       "    .dataframe tbody tr th:only-of-type {\n",
       "        vertical-align: middle;\n",
       "    }\n",
       "\n",
       "    .dataframe tbody tr th {\n",
       "        vertical-align: top;\n",
       "    }\n",
       "\n",
       "    .dataframe thead th {\n",
       "        text-align: right;\n",
       "    }\n",
       "</style>\n",
       "<table border=\"1\" class=\"dataframe\">\n",
       "  <thead>\n",
       "    <tr style=\"text-align: right;\">\n",
       "      <th></th>\n",
       "      <th>purchase_date</th>\n",
       "      <th>item_name</th>\n",
       "      <th>item_price</th>\n",
       "      <th>customer_name</th>\n",
       "    </tr>\n",
       "  </thead>\n",
       "  <tbody>\n",
       "    <tr>\n",
       "      <th>0</th>\n",
       "      <td>2019-06-13 18:02</td>\n",
       "      <td>상품A</td>\n",
       "      <td>100.0</td>\n",
       "      <td>김가온</td>\n",
       "    </tr>\n",
       "    <tr>\n",
       "      <th>1</th>\n",
       "      <td>2019-07-13 13:05</td>\n",
       "      <td>상 품 S</td>\n",
       "      <td>NaN</td>\n",
       "      <td>김우찬</td>\n",
       "    </tr>\n",
       "    <tr>\n",
       "      <th>2</th>\n",
       "      <td>2019-05-11 19:42</td>\n",
       "      <td>상 품 a</td>\n",
       "      <td>NaN</td>\n",
       "      <td>김유찬</td>\n",
       "    </tr>\n",
       "    <tr>\n",
       "      <th>3</th>\n",
       "      <td>2019-02-12 23:40</td>\n",
       "      <td>상품Z</td>\n",
       "      <td>2600.0</td>\n",
       "      <td>김재현</td>\n",
       "    </tr>\n",
       "    <tr>\n",
       "      <th>4</th>\n",
       "      <td>2019-04-22 3:09</td>\n",
       "      <td>상품a</td>\n",
       "      <td>NaN</td>\n",
       "      <td>김강현</td>\n",
       "    </tr>\n",
       "  </tbody>\n",
       "</table>\n",
       "</div>"
      ],
      "text/plain": [
       "      purchase_date item_name  item_price customer_name\n",
       "0  2019-06-13 18:02       상품A       100.0           김가온\n",
       "1  2019-07-13 13:05     상 품 S         NaN           김우찬\n",
       "2  2019-05-11 19:42     상 품 a         NaN           김유찬\n",
       "3  2019-02-12 23:40       상품Z      2600.0           김재현\n",
       "4   2019-04-22 3:09       상품a         NaN           김강현"
      ]
     },
     "execution_count": 3,
     "metadata": {},
     "output_type": "execute_result"
    }
   ],
   "source": [
    "trx = pd.read_csv(\"uriage.csv\")\n",
    "trx.head()"
   ]
  },
  {
   "cell_type": "code",
   "execution_count": 4,
   "metadata": {},
   "outputs": [
    {
     "data": {
      "text/html": [
       "<div>\n",
       "<style scoped>\n",
       "    .dataframe tbody tr th:only-of-type {\n",
       "        vertical-align: middle;\n",
       "    }\n",
       "\n",
       "    .dataframe tbody tr th {\n",
       "        vertical-align: top;\n",
       "    }\n",
       "\n",
       "    .dataframe thead th {\n",
       "        text-align: right;\n",
       "    }\n",
       "</style>\n",
       "<table border=\"1\" class=\"dataframe\">\n",
       "  <thead>\n",
       "    <tr style=\"text-align: right;\">\n",
       "      <th></th>\n",
       "      <th>고객이름</th>\n",
       "      <th>지역</th>\n",
       "      <th>등록일</th>\n",
       "    </tr>\n",
       "  </thead>\n",
       "  <tbody>\n",
       "    <tr>\n",
       "      <th>0</th>\n",
       "      <td>김 현성</td>\n",
       "      <td>H시</td>\n",
       "      <td>2018-01-04 00:00:00</td>\n",
       "    </tr>\n",
       "    <tr>\n",
       "      <th>1</th>\n",
       "      <td>김 도윤</td>\n",
       "      <td>E시</td>\n",
       "      <td>42782</td>\n",
       "    </tr>\n",
       "    <tr>\n",
       "      <th>2</th>\n",
       "      <td>김 지한</td>\n",
       "      <td>A시</td>\n",
       "      <td>2018-01-07 00:00:00</td>\n",
       "    </tr>\n",
       "    <tr>\n",
       "      <th>3</th>\n",
       "      <td>김 하윤</td>\n",
       "      <td>F시</td>\n",
       "      <td>42872</td>\n",
       "    </tr>\n",
       "    <tr>\n",
       "      <th>4</th>\n",
       "      <td>김 시온</td>\n",
       "      <td>E시</td>\n",
       "      <td>43127</td>\n",
       "    </tr>\n",
       "  </tbody>\n",
       "</table>\n",
       "</div>"
      ],
      "text/plain": [
       "   고객이름  지역                  등록일\n",
       "0  김 현성  H시  2018-01-04 00:00:00\n",
       "1  김 도윤  E시                42782\n",
       "2  김 지한  A시  2018-01-07 00:00:00\n",
       "3  김 하윤  F시                42872\n",
       "4  김 시온  E시                43127"
      ]
     },
     "execution_count": 4,
     "metadata": {},
     "output_type": "execute_result"
    }
   ],
   "source": [
    "customer = pd.read_excel(\"kokyaku_daicho.xlsx\")\n",
    "customer.head()"
   ]
  },
  {
   "cell_type": "markdown",
   "metadata": {},
   "source": [
    "### 테크닉 1. 오류를 확인해보자"
   ]
  },
  {
   "cell_type": "code",
   "execution_count": 5,
   "metadata": {},
   "outputs": [
    {
     "data": {
      "text/plain": [
       "0      상품A\n",
       "1    상 품 S\n",
       "2    상 품 a\n",
       "3      상품Z\n",
       "4      상품a\n",
       "Name: item_name, dtype: object"
      ]
     },
     "execution_count": 5,
     "metadata": {},
     "output_type": "execute_result"
    }
   ],
   "source": [
    "trx[\"item_name\"].head()"
   ]
  },
  {
   "cell_type": "code",
   "execution_count": 8,
   "metadata": {},
   "outputs": [
    {
     "data": {
      "text/plain": [
       "387"
      ]
     },
     "execution_count": 8,
     "metadata": {},
     "output_type": "execute_result"
    }
   ],
   "source": [
    "trx[\"item_price\"].isnull().sum()"
   ]
  },
  {
   "cell_type": "code",
   "execution_count": 9,
   "metadata": {},
   "outputs": [
    {
     "data": {
      "text/plain": [
       "purchase_date      0\n",
       "item_name          0\n",
       "item_price       387\n",
       "customer_name      0\n",
       "dtype: int64"
      ]
     },
     "execution_count": 9,
     "metadata": {},
     "output_type": "execute_result"
    }
   ],
   "source": [
    "trx.isnull().sum()"
   ]
  },
  {
   "cell_type": "code",
   "execution_count": 10,
   "metadata": {},
   "outputs": [
    {
     "data": {
      "text/plain": [
       "고객이름    0\n",
       "지역      0\n",
       "등록일     0\n",
       "dtype: int64"
      ]
     },
     "execution_count": 10,
     "metadata": {},
     "output_type": "execute_result"
    }
   ],
   "source": [
    "customer.isnull().sum()"
   ]
  },
  {
   "cell_type": "code",
   "execution_count": 11,
   "metadata": {},
   "outputs": [
    {
     "data": {
      "text/plain": [
       "0    김 현성\n",
       "1    김 도윤\n",
       "2    김 지한\n",
       "3    김 하윤\n",
       "4    김 시온\n",
       "Name: 고객이름, dtype: object"
      ]
     },
     "execution_count": 11,
     "metadata": {},
     "output_type": "execute_result"
    }
   ],
   "source": [
    "customer[\"고객이름\"].head()"
   ]
  },
  {
   "cell_type": "code",
   "execution_count": 12,
   "metadata": {},
   "outputs": [
    {
     "data": {
      "text/plain": [
       "0    2018-01-04 00:00:00\n",
       "1                  42782\n",
       "2    2018-01-07 00:00:00\n",
       "3                  42872\n",
       "4                  43127\n",
       "Name: 등록일, dtype: object"
      ]
     },
     "execution_count": 12,
     "metadata": {},
     "output_type": "execute_result"
    }
   ],
   "source": [
    "customer[\"등록일\"].head()"
   ]
  },
  {
   "cell_type": "markdown",
   "metadata": {},
   "source": [
    "### 테크닉2. 상품명 오류수정"
   ]
  },
  {
   "cell_type": "code",
   "execution_count": 22,
   "metadata": {},
   "outputs": [
    {
     "data": {
      "text/html": [
       "<div>\n",
       "<style scoped>\n",
       "    .dataframe tbody tr th:only-of-type {\n",
       "        vertical-align: middle;\n",
       "    }\n",
       "\n",
       "    .dataframe tbody tr th {\n",
       "        vertical-align: top;\n",
       "    }\n",
       "\n",
       "    .dataframe thead th {\n",
       "        text-align: right;\n",
       "    }\n",
       "</style>\n",
       "<table border=\"1\" class=\"dataframe\">\n",
       "  <thead>\n",
       "    <tr style=\"text-align: right;\">\n",
       "      <th>item_name</th>\n",
       "      <th>상품A</th>\n",
       "      <th>상품B</th>\n",
       "      <th>상품C</th>\n",
       "      <th>상품D</th>\n",
       "      <th>상품E</th>\n",
       "      <th>상품F</th>\n",
       "      <th>상품G</th>\n",
       "      <th>상품H</th>\n",
       "      <th>상품I</th>\n",
       "      <th>상품J</th>\n",
       "      <th>...</th>\n",
       "      <th>상품Q</th>\n",
       "      <th>상품R</th>\n",
       "      <th>상품S</th>\n",
       "      <th>상품T</th>\n",
       "      <th>상품U</th>\n",
       "      <th>상품V</th>\n",
       "      <th>상품W</th>\n",
       "      <th>상품X</th>\n",
       "      <th>상품Y</th>\n",
       "      <th>상품Z</th>\n",
       "    </tr>\n",
       "    <tr>\n",
       "      <th>purchase_month</th>\n",
       "      <th></th>\n",
       "      <th></th>\n",
       "      <th></th>\n",
       "      <th></th>\n",
       "      <th></th>\n",
       "      <th></th>\n",
       "      <th></th>\n",
       "      <th></th>\n",
       "      <th></th>\n",
       "      <th></th>\n",
       "      <th></th>\n",
       "      <th></th>\n",
       "      <th></th>\n",
       "      <th></th>\n",
       "      <th></th>\n",
       "      <th></th>\n",
       "      <th></th>\n",
       "      <th></th>\n",
       "      <th></th>\n",
       "      <th></th>\n",
       "      <th></th>\n",
       "    </tr>\n",
       "  </thead>\n",
       "  <tbody>\n",
       "    <tr>\n",
       "      <th>201901</th>\n",
       "      <td>18</td>\n",
       "      <td>13</td>\n",
       "      <td>19</td>\n",
       "      <td>17</td>\n",
       "      <td>18</td>\n",
       "      <td>15</td>\n",
       "      <td>11</td>\n",
       "      <td>16</td>\n",
       "      <td>18</td>\n",
       "      <td>17</td>\n",
       "      <td>...</td>\n",
       "      <td>17</td>\n",
       "      <td>21</td>\n",
       "      <td>20</td>\n",
       "      <td>17</td>\n",
       "      <td>7</td>\n",
       "      <td>22</td>\n",
       "      <td>13</td>\n",
       "      <td>14</td>\n",
       "      <td>10</td>\n",
       "      <td>0</td>\n",
       "    </tr>\n",
       "    <tr>\n",
       "      <th>201902</th>\n",
       "      <td>19</td>\n",
       "      <td>14</td>\n",
       "      <td>26</td>\n",
       "      <td>21</td>\n",
       "      <td>16</td>\n",
       "      <td>14</td>\n",
       "      <td>14</td>\n",
       "      <td>17</td>\n",
       "      <td>12</td>\n",
       "      <td>14</td>\n",
       "      <td>...</td>\n",
       "      <td>22</td>\n",
       "      <td>22</td>\n",
       "      <td>22</td>\n",
       "      <td>23</td>\n",
       "      <td>19</td>\n",
       "      <td>22</td>\n",
       "      <td>24</td>\n",
       "      <td>16</td>\n",
       "      <td>11</td>\n",
       "      <td>1</td>\n",
       "    </tr>\n",
       "    <tr>\n",
       "      <th>201903</th>\n",
       "      <td>17</td>\n",
       "      <td>21</td>\n",
       "      <td>20</td>\n",
       "      <td>17</td>\n",
       "      <td>9</td>\n",
       "      <td>27</td>\n",
       "      <td>14</td>\n",
       "      <td>18</td>\n",
       "      <td>12</td>\n",
       "      <td>16</td>\n",
       "      <td>...</td>\n",
       "      <td>23</td>\n",
       "      <td>16</td>\n",
       "      <td>20</td>\n",
       "      <td>12</td>\n",
       "      <td>23</td>\n",
       "      <td>18</td>\n",
       "      <td>16</td>\n",
       "      <td>21</td>\n",
       "      <td>16</td>\n",
       "      <td>0</td>\n",
       "    </tr>\n",
       "    <tr>\n",
       "      <th>201904</th>\n",
       "      <td>17</td>\n",
       "      <td>19</td>\n",
       "      <td>24</td>\n",
       "      <td>20</td>\n",
       "      <td>18</td>\n",
       "      <td>17</td>\n",
       "      <td>14</td>\n",
       "      <td>11</td>\n",
       "      <td>18</td>\n",
       "      <td>13</td>\n",
       "      <td>...</td>\n",
       "      <td>20</td>\n",
       "      <td>20</td>\n",
       "      <td>16</td>\n",
       "      <td>16</td>\n",
       "      <td>11</td>\n",
       "      <td>15</td>\n",
       "      <td>14</td>\n",
       "      <td>16</td>\n",
       "      <td>20</td>\n",
       "      <td>0</td>\n",
       "    </tr>\n",
       "    <tr>\n",
       "      <th>201905</th>\n",
       "      <td>24</td>\n",
       "      <td>14</td>\n",
       "      <td>16</td>\n",
       "      <td>14</td>\n",
       "      <td>19</td>\n",
       "      <td>18</td>\n",
       "      <td>23</td>\n",
       "      <td>15</td>\n",
       "      <td>16</td>\n",
       "      <td>11</td>\n",
       "      <td>...</td>\n",
       "      <td>13</td>\n",
       "      <td>22</td>\n",
       "      <td>18</td>\n",
       "      <td>16</td>\n",
       "      <td>16</td>\n",
       "      <td>9</td>\n",
       "      <td>21</td>\n",
       "      <td>16</td>\n",
       "      <td>20</td>\n",
       "      <td>0</td>\n",
       "    </tr>\n",
       "    <tr>\n",
       "      <th>201906</th>\n",
       "      <td>24</td>\n",
       "      <td>12</td>\n",
       "      <td>11</td>\n",
       "      <td>19</td>\n",
       "      <td>13</td>\n",
       "      <td>18</td>\n",
       "      <td>15</td>\n",
       "      <td>13</td>\n",
       "      <td>19</td>\n",
       "      <td>22</td>\n",
       "      <td>...</td>\n",
       "      <td>15</td>\n",
       "      <td>16</td>\n",
       "      <td>21</td>\n",
       "      <td>12</td>\n",
       "      <td>18</td>\n",
       "      <td>20</td>\n",
       "      <td>17</td>\n",
       "      <td>15</td>\n",
       "      <td>13</td>\n",
       "      <td>0</td>\n",
       "    </tr>\n",
       "    <tr>\n",
       "      <th>201907</th>\n",
       "      <td>20</td>\n",
       "      <td>20</td>\n",
       "      <td>17</td>\n",
       "      <td>17</td>\n",
       "      <td>12</td>\n",
       "      <td>17</td>\n",
       "      <td>19</td>\n",
       "      <td>19</td>\n",
       "      <td>19</td>\n",
       "      <td>23</td>\n",
       "      <td>...</td>\n",
       "      <td>15</td>\n",
       "      <td>19</td>\n",
       "      <td>23</td>\n",
       "      <td>21</td>\n",
       "      <td>13</td>\n",
       "      <td>28</td>\n",
       "      <td>16</td>\n",
       "      <td>18</td>\n",
       "      <td>12</td>\n",
       "      <td>0</td>\n",
       "    </tr>\n",
       "  </tbody>\n",
       "</table>\n",
       "<p>7 rows × 26 columns</p>\n",
       "</div>"
      ],
      "text/plain": [
       "item_name       상품A  상품B  상품C  상품D  상품E  상품F  상품G  상품H  상품I  상품J  ...  상품Q  \\\n",
       "purchase_month                                                    ...        \n",
       "201901           18   13   19   17   18   15   11   16   18   17  ...   17   \n",
       "201902           19   14   26   21   16   14   14   17   12   14  ...   22   \n",
       "201903           17   21   20   17    9   27   14   18   12   16  ...   23   \n",
       "201904           17   19   24   20   18   17   14   11   18   13  ...   20   \n",
       "201905           24   14   16   14   19   18   23   15   16   11  ...   13   \n",
       "201906           24   12   11   19   13   18   15   13   19   22  ...   15   \n",
       "201907           20   20   17   17   12   17   19   19   19   23  ...   15   \n",
       "\n",
       "item_name       상품R  상품S  상품T  상품U  상품V  상품W  상품X  상품Y  상품Z  \n",
       "purchase_month                                               \n",
       "201901           21   20   17    7   22   13   14   10    0  \n",
       "201902           22   22   23   19   22   24   16   11    1  \n",
       "201903           16   20   12   23   18   16   21   16    0  \n",
       "201904           20   16   16   11   15   14   16   20    0  \n",
       "201905           22   18   16   16    9   21   16   20    0  \n",
       "201906           16   21   12   18   20   17   15   13    0  \n",
       "201907           19   23   21   13   28   16   18   12    0  \n",
       "\n",
       "[7 rows x 26 columns]"
      ]
     },
     "execution_count": 22,
     "metadata": {},
     "output_type": "execute_result"
    }
   ],
   "source": [
    "trx[\"purchase_date\"] = pd.to_datetime(trx[\"purchase_date\"])\n",
    "trx[\"purchase_month\"] = trx[\"purchase_date\"].dt.strftime(\"%Y%m\")\n",
    "pivot = pd.pivot_table(trx, index=\"purchase_month\", columns=\"item_name\", aggfunc=\"size\", fill_value=0)\n",
    "pivot"
   ]
  },
  {
   "cell_type": "code",
   "execution_count": 15,
   "metadata": {},
   "outputs": [
    {
     "data": {
      "text/plain": [
       "array(['상품A', '상 품 S', '상 품 a', '상품Z', '상품a', '상품S', '상품 a', '상품V', '상품O',\n",
       "       '상 품U', '상품L', '상  품V', '상 품O', '상품C', '상품I', '상품r', '상품X', '상품 g',\n",
       "       '상품R', '상품P', '상품Q', '상품y', '상품 A', '상품N', '상품W', '상 품E', '상품K',\n",
       "       '상품B', '상품F', '상 품s', ' 상품W', ' 상 품 n', '상 품F', '상품D', '상품M',\n",
       "       '상품Y', '상품U', '상품H', '상품T', '상품J', '상  품O', '상품E', '상  품Q',\n",
       "       ' 상품 S', ' 상품 M', '상  품T', '상품G', '상 품G', ' 상품 P', ' 상품 E', '상 품N',\n",
       "       '상 품Y', '상품 J', '상품 V', '상품 K', '상 품V', '상 품D', '상 품A', '상품 F',\n",
       "       '상품 H', '상 품K', '상 품T', '상품 X', '상품 Q', '상 품X', '상 품H', '상 품C',\n",
       "       '상품 B', '상품 O', '상품 T', '상품v', '상품p', '상품i', '상품 w', '상 품 s',\n",
       "       '상 품 q', '상품s', '상품l', '상품t', '상품k', '상품g', '상품o', '상품 R', '상품 S',\n",
       "       '상 품M', '상품j', '상품d', '상품 I', '상품 E', '상품 o', '상품c', '상품 v', '상품e',\n",
       "       '상품x', '상 품I', ' 상품 W', ' 상품 X', '상품 M', '상 품P'], dtype=object)"
      ]
     },
     "execution_count": 15,
     "metadata": {},
     "output_type": "execute_result"
    }
   ],
   "source": [
    "pd.unique(trx[\"item_name\"])"
   ]
  },
  {
   "cell_type": "code",
   "execution_count": 16,
   "metadata": {},
   "outputs": [
    {
     "data": {
      "text/plain": [
       "array(['상품A', '상 품 S', '상 품 A', '상품Z', '상품S', '상품 A', '상품V', '상품O',\n",
       "       '상 품U', '상품L', '상  품V', '상 품O', '상품C', '상품I', '상품R', '상품X', '상품 G',\n",
       "       '상품P', '상품Q', '상품Y', '상품N', '상품W', '상 품E', '상품K', '상품B', '상품F',\n",
       "       '상 품S', ' 상품W', ' 상 품 N', '상 품F', '상품D', '상품M', '상품U', '상품H',\n",
       "       '상품T', '상품J', '상  품O', '상품E', '상  품Q', ' 상품 S', ' 상품 M', '상  품T',\n",
       "       '상품G', '상 품G', ' 상품 P', ' 상품 E', '상 품N', '상 품Y', '상품 J', '상품 V',\n",
       "       '상품 K', '상 품V', '상 품D', '상 품A', '상품 F', '상품 H', '상 품K', '상 품T',\n",
       "       '상품 X', '상품 Q', '상 품X', '상 품H', '상 품C', '상품 B', '상품 O', '상품 T',\n",
       "       '상품 W', '상 품 Q', '상품 R', '상품 S', '상 품M', '상품 I', '상품 E', '상 품I',\n",
       "       ' 상품 W', ' 상품 X', '상품 M', '상 품P'], dtype=object)"
      ]
     },
     "execution_count": 16,
     "metadata": {},
     "output_type": "execute_result"
    }
   ],
   "source": [
    "trx[\"item_name\"] = trx[\"item_name\"].str.upper()\n",
    "pd.unique(trx[\"item_name\"])"
   ]
  },
  {
   "cell_type": "code",
   "execution_count": 18,
   "metadata": {},
   "outputs": [
    {
     "data": {
      "text/plain": [
       "array(['상품A', '상품S', '상품Z', '상품V', '상품O', '상품U', '상품L', '상품C', '상품I',\n",
       "       '상품R', '상품X', '상품G', '상품P', '상품Q', '상품Y', '상품N', '상품W', '상품E',\n",
       "       '상품K', '상품B', '상품F', '상품D', '상품M', '상품H', '상품T', '상품J'],\n",
       "      dtype=object)"
      ]
     },
     "execution_count": 18,
     "metadata": {},
     "output_type": "execute_result"
    }
   ],
   "source": [
    "trx[\"item_name\"] = trx[\"item_name\"].str.replace(\" \", \"\")\n",
    "pd.unique(trx[\"item_name\"])"
   ]
  },
  {
   "cell_type": "code",
   "execution_count": 23,
   "metadata": {},
   "outputs": [
    {
     "data": {
      "text/plain": [
       "array(['상품A', '상품S', '상품Z', '상품V', '상품O', '상품U', '상품L', '상품C', '상품I',\n",
       "       '상품R', '상품X', '상품G', '상품P', '상품Q', '상품Y', '상품N', '상품W', '상품E',\n",
       "       '상품K', '상품B', '상품F', '상품D', '상품M', '상품H', '상품T', '상품J'],\n",
       "      dtype=object)"
      ]
     },
     "execution_count": 23,
     "metadata": {},
     "output_type": "execute_result"
    }
   ],
   "source": [
    "trx[\"item_name\"].unique()"
   ]
  },
  {
   "cell_type": "code",
   "execution_count": 24,
   "metadata": {},
   "outputs": [
    {
     "data": {
      "text/plain": [
       "26"
      ]
     },
     "execution_count": 24,
     "metadata": {},
     "output_type": "execute_result"
    }
   ],
   "source": [
    "len(trx[\"item_name\"].unique())"
   ]
  },
  {
   "cell_type": "code",
   "execution_count": 25,
   "metadata": {},
   "outputs": [
    {
     "data": {
      "text/plain": [
       "array(['김 현성', '김 도윤', '김 지한', '김 하윤', '김 시온', '김 예성', '김 하람', '김 호준',\n",
       "       '김 지완', '김 주호', '김 재원', '김 승민', '김 준형', '김 동건', '김 준서', '김 수혁',\n",
       "       '김 진우', '김 윤호', '김 윤서', '김 준희', '김 윤우', '김 동우', '김 성빈', '김 태준',\n",
       "       '김 태경', '김 승후', '김 현우', '김 서준', '김 주원', '김 태인', '김 승준', '김 윤재',\n",
       "       '김 수민', '김 승훈', '김 하준', '김 하율', '김 우찬', '김 준성', '김 준혁', '김 승찬',\n",
       "       '김 현승', '김 지운', '김 성민', '김 지호', '김 우준', '김 승빈', '김 재민', '김 태민',\n",
       "       '김 주혁', '김 정원', '김 하랑', '김 지우', '김 예준', '김 주영', '김 민석', '김 유빈',\n",
       "       '김 시훈', '김 동현', '김 라온', '김 은우', '김 민재', '김 준후', '김 현서', '김 서후',\n",
       "       '김 재현', '김 유준', '김 찬우', '김 도현', '김 상민', '김 재영', '김 하진', '김 범준',\n",
       "       '김 우진', '김 지훈', '김 시윤', '김 강민', '김 지성', '김 윤찬', '김 민호', '김 윤성',\n",
       "       '김 지후', '김 현진', '김 태양', '김 대현', '김 재준', '김 민건', '김 도경', '김 지민',\n",
       "       '김 은호', '김 민혁', '김 민찬', '김 승원', '김 정현', '김 승유', '김 세현', '김 승윤',\n",
       "       '김 이준', '김 경민', '김 정훈', '김 성우', '김 은율', '김 도훈', '김 태현', '김 주안',\n",
       "       '김 동욱', '김 재훈', '김 도율', '김 예찬', '김 태훈', '김 준석', '김 원준', '김 민준',\n",
       "       '김 은찬', '김 영준', '김 주한', '김 현수', '김 건희', '김 규민', '김 재혁', '김 승재',\n",
       "       '김 정후', '김 성현', '정 영훈', '김 민우', '김 주환', '김 준호', '김 준우', '김 시율',\n",
       "       '김 도하', '김 규현', '김 주현', '김 정민', '김 건우', '정 도형', '김 연준', '김 강현',\n",
       "       '김 태우', '김 지율', '김 지용', '김 지오', '김 수호', '김 가온', '김 유찬', '김 상현',\n",
       "       '김 시완', '김 도원', '김 시우', '김 은성', '김 성윤', '김 우빈', '김 준수', '김 연호',\n",
       "       '정 우석', '김 민규', '김 태영', '김 은혁', '김 준영', '김 지환', '김 서진', '김 서윤',\n",
       "       '김 하민', '김 현준', '김 승현', '김 우영', '김 재윤', '김 한결', '김 우주', '김 지혁',\n",
       "       '김 민서', '김 찬영', '김 시환', '김 수현', '김 서율', '정 준기', '김 성훈', '김 시호',\n",
       "       '김 재호', '김 재우', '김 동하', '김 우현', '김 민기', '김 승환', '김 다온', '김 승우',\n",
       "       '김 성준', '김 승호', '김 승주', '김 태윤', '김 민수', '김 현민', '김 유진', '김 지안',\n",
       "       '김 현석', '김 선우', '김 지원', '김 재희', '김 도영', '김 이안', '김 시현', '김 서우'],\n",
       "      dtype=object)"
      ]
     },
     "execution_count": 25,
     "metadata": {},
     "output_type": "execute_result"
    }
   ],
   "source": [
    "customer[\"고객이름\"].unique()"
   ]
  },
  {
   "cell_type": "code",
   "execution_count": 26,
   "metadata": {},
   "outputs": [],
   "source": [
    "customer[\"고객이름\"] = customer[\"고객이름\"].str.replace(\" \", \"\")"
   ]
  },
  {
   "cell_type": "code",
   "execution_count": 27,
   "metadata": {},
   "outputs": [
    {
     "data": {
      "text/plain": [
       "array(['김현성', '김도윤', '김지한', '김하윤', '김시온', '김예성', '김하람', '김호준', '김지완',\n",
       "       '김주호', '김재원', '김승민', '김준형', '김동건', '김준서', '김수혁', '김진우', '김윤호',\n",
       "       '김윤서', '김준희', '김윤우', '김동우', '김성빈', '김태준', '김태경', '김승후', '김현우',\n",
       "       '김서준', '김주원', '김태인', '김승준', '김윤재', '김수민', '김승훈', '김하준', '김하율',\n",
       "       '김우찬', '김준성', '김준혁', '김승찬', '김현승', '김지운', '김성민', '김지호', '김우준',\n",
       "       '김승빈', '김재민', '김태민', '김주혁', '김정원', '김하랑', '김지우', '김예준', '김주영',\n",
       "       '김민석', '김유빈', '김시훈', '김동현', '김라온', '김은우', '김민재', '김준후', '김현서',\n",
       "       '김서후', '김재현', '김유준', '김찬우', '김도현', '김상민', '김재영', '김하진', '김범준',\n",
       "       '김우진', '김지훈', '김시윤', '김강민', '김지성', '김윤찬', '김민호', '김윤성', '김지후',\n",
       "       '김현진', '김태양', '김대현', '김재준', '김민건', '김도경', '김지민', '김은호', '김민혁',\n",
       "       '김민찬', '김승원', '김정현', '김승유', '김세현', '김승윤', '김이준', '김경민', '김정훈',\n",
       "       '김성우', '김은율', '김도훈', '김태현', '김주안', '김동욱', '김재훈', '김도율', '김예찬',\n",
       "       '김태훈', '김준석', '김원준', '김민준', '김은찬', '김영준', '김주한', '김현수', '김건희',\n",
       "       '김규민', '김재혁', '김승재', '김정후', '김성현', '정영훈', '김민우', '김주환', '김준호',\n",
       "       '김준우', '김시율', '김도하', '김규현', '김주현', '김정민', '김건우', '정도형', '김연준',\n",
       "       '김강현', '김태우', '김지율', '김지용', '김지오', '김수호', '김가온', '김유찬', '김상현',\n",
       "       '김시완', '김도원', '김시우', '김은성', '김성윤', '김우빈', '김준수', '김연호', '정우석',\n",
       "       '김민규', '김태영', '김은혁', '김준영', '김지환', '김서진', '김서윤', '김하민', '김현준',\n",
       "       '김승현', '김우영', '김재윤', '김한결', '김우주', '김지혁', '김민서', '김찬영', '김시환',\n",
       "       '김수현', '김서율', '정준기', '김성훈', '김시호', '김재호', '김재우', '김동하', '김우현',\n",
       "       '김민기', '김승환', '김다온', '김승우', '김성준', '김승호', '김승주', '김태윤', '김민수',\n",
       "       '김현민', '김유진', '김지안', '김현석', '김선우', '김지원', '김재희', '김도영', '김이안',\n",
       "       '김시현', '김서우'], dtype=object)"
      ]
     },
     "execution_count": 27,
     "metadata": {},
     "output_type": "execute_result"
    }
   ],
   "source": [
    "customer[\"고객이름\"].unique()"
   ]
  }
 ],
 "metadata": {
  "kernelspec": {
   "display_name": "Python 3",
   "language": "python",
   "name": "python3"
  },
  "language_info": {
   "codemirror_mode": {
    "name": "ipython",
    "version": 3
   },
   "file_extension": ".py",
   "mimetype": "text/x-python",
   "name": "python",
   "nbconvert_exporter": "python",
   "pygments_lexer": "ipython3",
   "version": "3.7.6"
  }
 },
 "nbformat": 4,
 "nbformat_minor": 4
}
