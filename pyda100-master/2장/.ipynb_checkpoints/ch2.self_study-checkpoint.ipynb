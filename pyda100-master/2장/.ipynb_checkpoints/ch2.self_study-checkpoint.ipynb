{
 "cells": [
  {
   "cell_type": "code",
   "execution_count": 1,
   "metadata": {},
   "outputs": [],
   "source": [
    "import pandas as pd"
   ]
  },
  {
   "cell_type": "code",
   "execution_count": 2,
   "metadata": {},
   "outputs": [
    {
     "data": {
      "text/html": [
       "<div>\n",
       "<style scoped>\n",
       "    .dataframe tbody tr th:only-of-type {\n",
       "        vertical-align: middle;\n",
       "    }\n",
       "\n",
       "    .dataframe tbody tr th {\n",
       "        vertical-align: top;\n",
       "    }\n",
       "\n",
       "    .dataframe thead th {\n",
       "        text-align: right;\n",
       "    }\n",
       "</style>\n",
       "<table border=\"1\" class=\"dataframe\">\n",
       "  <thead>\n",
       "    <tr style=\"text-align: right;\">\n",
       "      <th></th>\n",
       "      <th>purchase_date</th>\n",
       "      <th>item_name</th>\n",
       "      <th>item_price</th>\n",
       "      <th>customer_name</th>\n",
       "    </tr>\n",
       "  </thead>\n",
       "  <tbody>\n",
       "    <tr>\n",
       "      <th>0</th>\n",
       "      <td>2019-06-13 18:02</td>\n",
       "      <td>상품A</td>\n",
       "      <td>100.0</td>\n",
       "      <td>김가온</td>\n",
       "    </tr>\n",
       "    <tr>\n",
       "      <th>1</th>\n",
       "      <td>2019-07-13 13:05</td>\n",
       "      <td>상 품 S</td>\n",
       "      <td>NaN</td>\n",
       "      <td>김우찬</td>\n",
       "    </tr>\n",
       "    <tr>\n",
       "      <th>2</th>\n",
       "      <td>2019-05-11 19:42</td>\n",
       "      <td>상 품 a</td>\n",
       "      <td>NaN</td>\n",
       "      <td>김유찬</td>\n",
       "    </tr>\n",
       "    <tr>\n",
       "      <th>3</th>\n",
       "      <td>2019-02-12 23:40</td>\n",
       "      <td>상품Z</td>\n",
       "      <td>2600.0</td>\n",
       "      <td>김재현</td>\n",
       "    </tr>\n",
       "    <tr>\n",
       "      <th>4</th>\n",
       "      <td>2019-04-22 3:09</td>\n",
       "      <td>상품a</td>\n",
       "      <td>NaN</td>\n",
       "      <td>김강현</td>\n",
       "    </tr>\n",
       "  </tbody>\n",
       "</table>\n",
       "</div>"
      ],
      "text/plain": [
       "      purchase_date item_name  item_price customer_name\n",
       "0  2019-06-13 18:02       상품A       100.0           김가온\n",
       "1  2019-07-13 13:05     상 품 S         NaN           김우찬\n",
       "2  2019-05-11 19:42     상 품 a         NaN           김유찬\n",
       "3  2019-02-12 23:40       상품Z      2600.0           김재현\n",
       "4   2019-04-22 3:09       상품a         NaN           김강현"
      ]
     },
     "execution_count": 2,
     "metadata": {},
     "output_type": "execute_result"
    }
   ],
   "source": [
    "trx = pd.read_csv(\"uriage.csv\")\n",
    "trx.head()"
   ]
  },
  {
   "cell_type": "code",
   "execution_count": 3,
   "metadata": {},
   "outputs": [
    {
     "data": {
      "text/html": [
       "<div>\n",
       "<style scoped>\n",
       "    .dataframe tbody tr th:only-of-type {\n",
       "        vertical-align: middle;\n",
       "    }\n",
       "\n",
       "    .dataframe tbody tr th {\n",
       "        vertical-align: top;\n",
       "    }\n",
       "\n",
       "    .dataframe thead th {\n",
       "        text-align: right;\n",
       "    }\n",
       "</style>\n",
       "<table border=\"1\" class=\"dataframe\">\n",
       "  <thead>\n",
       "    <tr style=\"text-align: right;\">\n",
       "      <th></th>\n",
       "      <th>고객이름</th>\n",
       "      <th>지역</th>\n",
       "      <th>등록일</th>\n",
       "    </tr>\n",
       "  </thead>\n",
       "  <tbody>\n",
       "    <tr>\n",
       "      <th>0</th>\n",
       "      <td>김 현성</td>\n",
       "      <td>H시</td>\n",
       "      <td>2018-01-04 00:00:00</td>\n",
       "    </tr>\n",
       "    <tr>\n",
       "      <th>1</th>\n",
       "      <td>김 도윤</td>\n",
       "      <td>E시</td>\n",
       "      <td>42782</td>\n",
       "    </tr>\n",
       "    <tr>\n",
       "      <th>2</th>\n",
       "      <td>김 지한</td>\n",
       "      <td>A시</td>\n",
       "      <td>2018-01-07 00:00:00</td>\n",
       "    </tr>\n",
       "    <tr>\n",
       "      <th>3</th>\n",
       "      <td>김 하윤</td>\n",
       "      <td>F시</td>\n",
       "      <td>42872</td>\n",
       "    </tr>\n",
       "    <tr>\n",
       "      <th>4</th>\n",
       "      <td>김 시온</td>\n",
       "      <td>E시</td>\n",
       "      <td>43127</td>\n",
       "    </tr>\n",
       "  </tbody>\n",
       "</table>\n",
       "</div>"
      ],
      "text/plain": [
       "   고객이름  지역                  등록일\n",
       "0  김 현성  H시  2018-01-04 00:00:00\n",
       "1  김 도윤  E시                42782\n",
       "2  김 지한  A시  2018-01-07 00:00:00\n",
       "3  김 하윤  F시                42872\n",
       "4  김 시온  E시                43127"
      ]
     },
     "execution_count": 3,
     "metadata": {},
     "output_type": "execute_result"
    }
   ],
   "source": [
    "customer = pd.read_excel(\"kokyaku_daicho.xlsx\")\n",
    "customer.head()"
   ]
  },
  {
   "cell_type": "markdown",
   "metadata": {},
   "source": [
    "### 테크닉 . 오류를 확인해보자"
   ]
  },
  {
   "cell_type": "code",
   "execution_count": 4,
   "metadata": {},
   "outputs": [
    {
     "data": {
      "text/plain": [
       "0      상품A\n",
       "1    상 품 S\n",
       "2    상 품 a\n",
       "3      상품Z\n",
       "4      상품a\n",
       "Name: item_name, dtype: object"
      ]
     },
     "execution_count": 4,
     "metadata": {},
     "output_type": "execute_result"
    }
   ],
   "source": [
    "# 상품명 공백, 소문자\n",
    "trx[\"item_name\"].head()"
   ]
  },
  {
   "cell_type": "code",
   "execution_count": 5,
   "metadata": {},
   "outputs": [
    {
     "data": {
      "text/plain": [
       "0     100.0\n",
       "1       NaN\n",
       "2       NaN\n",
       "3    2600.0\n",
       "4       NaN\n",
       "Name: item_price, dtype: float64"
      ]
     },
     "execution_count": 5,
     "metadata": {},
     "output_type": "execute_result"
    }
   ],
   "source": [
    "# null\n",
    "trx[\"item_price\"].head()"
   ]
  },
  {
   "cell_type": "code",
   "execution_count": 6,
   "metadata": {},
   "outputs": [
    {
     "data": {
      "text/plain": [
       "0    김 현성\n",
       "1    김 도윤\n",
       "2    김 지한\n",
       "3    김 하윤\n",
       "4    김 시온\n",
       "Name: 고객이름, dtype: object"
      ]
     },
     "execution_count": 6,
     "metadata": {},
     "output_type": "execute_result"
    }
   ],
   "source": [
    "# 이름 사이 공백\n",
    "customer[\"고객이름\"].head()"
   ]
  },
  {
   "cell_type": "code",
   "execution_count": 7,
   "metadata": {},
   "outputs": [
    {
     "data": {
      "text/plain": [
       "0    2018-01-04 00:00:00\n",
       "1                  42782\n",
       "2    2018-01-07 00:00:00\n",
       "3                  42872\n",
       "4                  43127\n",
       "Name: 등록일, dtype: object"
      ]
     },
     "execution_count": 7,
     "metadata": {},
     "output_type": "execute_result"
    }
   ],
   "source": [
    "# 날짜 형식 불일치\n",
    "customer[\"등록일\"].head()"
   ]
  },
  {
   "cell_type": "code",
   "execution_count": 8,
   "metadata": {},
   "outputs": [
    {
     "data": {
      "text/plain": [
       "purchase_date      0\n",
       "item_name          0\n",
       "item_price       387\n",
       "customer_name      0\n",
       "dtype: int64"
      ]
     },
     "execution_count": 8,
     "metadata": {},
     "output_type": "execute_result"
    }
   ],
   "source": [
    "trx.isnull().sum()"
   ]
  },
  {
   "cell_type": "code",
   "execution_count": 9,
   "metadata": {},
   "outputs": [
    {
     "data": {
      "text/plain": [
       "고객이름    0\n",
       "지역      0\n",
       "등록일     0\n",
       "dtype: int64"
      ]
     },
     "execution_count": 9,
     "metadata": {},
     "output_type": "execute_result"
    }
   ],
   "source": [
    "customer.isnull().sum()"
   ]
  },
  {
   "cell_type": "markdown",
   "metadata": {},
   "source": [
    "### 테크닉 . 상품명 오류 수정"
   ]
  },
  {
   "cell_type": "code",
   "execution_count": 10,
   "metadata": {},
   "outputs": [
    {
     "data": {
      "text/html": [
       "<div>\n",
       "<style scoped>\n",
       "    .dataframe tbody tr th:only-of-type {\n",
       "        vertical-align: middle;\n",
       "    }\n",
       "\n",
       "    .dataframe tbody tr th {\n",
       "        vertical-align: top;\n",
       "    }\n",
       "\n",
       "    .dataframe thead th {\n",
       "        text-align: right;\n",
       "    }\n",
       "</style>\n",
       "<table border=\"1\" class=\"dataframe\">\n",
       "  <thead>\n",
       "    <tr style=\"text-align: right;\">\n",
       "      <th>item_name</th>\n",
       "      <th>상 품 n</th>\n",
       "      <th>상품 E</th>\n",
       "      <th>상품 M</th>\n",
       "      <th>상품 P</th>\n",
       "      <th>상품 S</th>\n",
       "      <th>상품 W</th>\n",
       "      <th>상품 X</th>\n",
       "      <th>상품W</th>\n",
       "      <th>상  품O</th>\n",
       "      <th>상  품Q</th>\n",
       "      <th>...</th>\n",
       "      <th>상품k</th>\n",
       "      <th>상품l</th>\n",
       "      <th>상품o</th>\n",
       "      <th>상품p</th>\n",
       "      <th>상품r</th>\n",
       "      <th>상품s</th>\n",
       "      <th>상품t</th>\n",
       "      <th>상품v</th>\n",
       "      <th>상품x</th>\n",
       "      <th>상품y</th>\n",
       "    </tr>\n",
       "    <tr>\n",
       "      <th>purchase_month</th>\n",
       "      <th></th>\n",
       "      <th></th>\n",
       "      <th></th>\n",
       "      <th></th>\n",
       "      <th></th>\n",
       "      <th></th>\n",
       "      <th></th>\n",
       "      <th></th>\n",
       "      <th></th>\n",
       "      <th></th>\n",
       "      <th></th>\n",
       "      <th></th>\n",
       "      <th></th>\n",
       "      <th></th>\n",
       "      <th></th>\n",
       "      <th></th>\n",
       "      <th></th>\n",
       "      <th></th>\n",
       "      <th></th>\n",
       "      <th></th>\n",
       "      <th></th>\n",
       "    </tr>\n",
       "  </thead>\n",
       "  <tbody>\n",
       "    <tr>\n",
       "      <th>201901</th>\n",
       "      <td>1</td>\n",
       "      <td>0</td>\n",
       "      <td>0</td>\n",
       "      <td>0</td>\n",
       "      <td>0</td>\n",
       "      <td>0</td>\n",
       "      <td>0</td>\n",
       "      <td>0</td>\n",
       "      <td>0</td>\n",
       "      <td>0</td>\n",
       "      <td>...</td>\n",
       "      <td>1</td>\n",
       "      <td>1</td>\n",
       "      <td>1</td>\n",
       "      <td>0</td>\n",
       "      <td>0</td>\n",
       "      <td>0</td>\n",
       "      <td>0</td>\n",
       "      <td>0</td>\n",
       "      <td>0</td>\n",
       "      <td>0</td>\n",
       "    </tr>\n",
       "    <tr>\n",
       "      <th>201902</th>\n",
       "      <td>0</td>\n",
       "      <td>0</td>\n",
       "      <td>0</td>\n",
       "      <td>0</td>\n",
       "      <td>0</td>\n",
       "      <td>0</td>\n",
       "      <td>1</td>\n",
       "      <td>0</td>\n",
       "      <td>0</td>\n",
       "      <td>0</td>\n",
       "      <td>...</td>\n",
       "      <td>0</td>\n",
       "      <td>0</td>\n",
       "      <td>0</td>\n",
       "      <td>0</td>\n",
       "      <td>0</td>\n",
       "      <td>1</td>\n",
       "      <td>1</td>\n",
       "      <td>1</td>\n",
       "      <td>0</td>\n",
       "      <td>0</td>\n",
       "    </tr>\n",
       "    <tr>\n",
       "      <th>201903</th>\n",
       "      <td>0</td>\n",
       "      <td>1</td>\n",
       "      <td>1</td>\n",
       "      <td>1</td>\n",
       "      <td>0</td>\n",
       "      <td>0</td>\n",
       "      <td>0</td>\n",
       "      <td>0</td>\n",
       "      <td>0</td>\n",
       "      <td>0</td>\n",
       "      <td>...</td>\n",
       "      <td>0</td>\n",
       "      <td>0</td>\n",
       "      <td>0</td>\n",
       "      <td>0</td>\n",
       "      <td>0</td>\n",
       "      <td>0</td>\n",
       "      <td>0</td>\n",
       "      <td>0</td>\n",
       "      <td>0</td>\n",
       "      <td>0</td>\n",
       "    </tr>\n",
       "    <tr>\n",
       "      <th>201904</th>\n",
       "      <td>0</td>\n",
       "      <td>0</td>\n",
       "      <td>0</td>\n",
       "      <td>0</td>\n",
       "      <td>0</td>\n",
       "      <td>0</td>\n",
       "      <td>0</td>\n",
       "      <td>1</td>\n",
       "      <td>0</td>\n",
       "      <td>1</td>\n",
       "      <td>...</td>\n",
       "      <td>0</td>\n",
       "      <td>0</td>\n",
       "      <td>0</td>\n",
       "      <td>0</td>\n",
       "      <td>0</td>\n",
       "      <td>1</td>\n",
       "      <td>0</td>\n",
       "      <td>0</td>\n",
       "      <td>0</td>\n",
       "      <td>0</td>\n",
       "    </tr>\n",
       "    <tr>\n",
       "      <th>201905</th>\n",
       "      <td>0</td>\n",
       "      <td>0</td>\n",
       "      <td>0</td>\n",
       "      <td>0</td>\n",
       "      <td>1</td>\n",
       "      <td>0</td>\n",
       "      <td>0</td>\n",
       "      <td>0</td>\n",
       "      <td>0</td>\n",
       "      <td>0</td>\n",
       "      <td>...</td>\n",
       "      <td>0</td>\n",
       "      <td>1</td>\n",
       "      <td>0</td>\n",
       "      <td>0</td>\n",
       "      <td>0</td>\n",
       "      <td>0</td>\n",
       "      <td>0</td>\n",
       "      <td>0</td>\n",
       "      <td>0</td>\n",
       "      <td>1</td>\n",
       "    </tr>\n",
       "    <tr>\n",
       "      <th>201906</th>\n",
       "      <td>0</td>\n",
       "      <td>0</td>\n",
       "      <td>0</td>\n",
       "      <td>0</td>\n",
       "      <td>0</td>\n",
       "      <td>1</td>\n",
       "      <td>0</td>\n",
       "      <td>0</td>\n",
       "      <td>0</td>\n",
       "      <td>0</td>\n",
       "      <td>...</td>\n",
       "      <td>0</td>\n",
       "      <td>0</td>\n",
       "      <td>0</td>\n",
       "      <td>1</td>\n",
       "      <td>0</td>\n",
       "      <td>0</td>\n",
       "      <td>0</td>\n",
       "      <td>0</td>\n",
       "      <td>1</td>\n",
       "      <td>0</td>\n",
       "    </tr>\n",
       "    <tr>\n",
       "      <th>201907</th>\n",
       "      <td>0</td>\n",
       "      <td>0</td>\n",
       "      <td>0</td>\n",
       "      <td>0</td>\n",
       "      <td>0</td>\n",
       "      <td>0</td>\n",
       "      <td>0</td>\n",
       "      <td>0</td>\n",
       "      <td>1</td>\n",
       "      <td>0</td>\n",
       "      <td>...</td>\n",
       "      <td>0</td>\n",
       "      <td>0</td>\n",
       "      <td>1</td>\n",
       "      <td>0</td>\n",
       "      <td>2</td>\n",
       "      <td>0</td>\n",
       "      <td>0</td>\n",
       "      <td>0</td>\n",
       "      <td>0</td>\n",
       "      <td>0</td>\n",
       "    </tr>\n",
       "  </tbody>\n",
       "</table>\n",
       "<p>7 rows × 99 columns</p>\n",
       "</div>"
      ],
      "text/plain": [
       "item_name        상 품 n   상품 E   상품 M   상품 P   상품 S   상품 W   상품 X   상품W  상  품O  \\\n",
       "purchase_month                                                                  \n",
       "201901               1      0      0      0      0      0      0     0      0   \n",
       "201902               0      0      0      0      0      0      1     0      0   \n",
       "201903               0      1      1      1      0      0      0     0      0   \n",
       "201904               0      0      0      0      0      0      0     1      0   \n",
       "201905               0      0      0      0      1      0      0     0      0   \n",
       "201906               0      0      0      0      0      1      0     0      0   \n",
       "201907               0      0      0      0      0      0      0     0      1   \n",
       "\n",
       "item_name       상  품Q  ...  상품k  상품l  상품o  상품p  상품r  상품s  상품t  상품v  상품x  상품y  \n",
       "purchase_month         ...                                                    \n",
       "201901              0  ...    1    1    1    0    0    0    0    0    0    0  \n",
       "201902              0  ...    0    0    0    0    0    1    1    1    0    0  \n",
       "201903              0  ...    0    0    0    0    0    0    0    0    0    0  \n",
       "201904              1  ...    0    0    0    0    0    1    0    0    0    0  \n",
       "201905              0  ...    0    1    0    0    0    0    0    0    0    1  \n",
       "201906              0  ...    0    0    0    1    0    0    0    0    1    0  \n",
       "201907              0  ...    0    0    1    0    2    0    0    0    0    0  \n",
       "\n",
       "[7 rows x 99 columns]"
      ]
     },
     "execution_count": 10,
     "metadata": {},
     "output_type": "execute_result"
    }
   ],
   "source": [
    "trx[\"purchase_date\"] = pd.to_datetime(trx[\"purchase_date\"])\n",
    "trx[\"purchase_month\"] = trx[\"purchase_date\"].dt.strftime(\"%Y%m\")\n",
    "trx[\"purchase_month\"].head()\n",
    "\n",
    "res = pd.pivot_table(trx, index=\"purchase_month\", columns=\"item_name\", aggfunc=\"size\", fill_value=0)\n",
    "res"
   ]
  },
  {
   "cell_type": "code",
   "execution_count": 11,
   "metadata": {},
   "outputs": [
    {
     "data": {
      "text/plain": [
       "99"
      ]
     },
     "execution_count": 11,
     "metadata": {},
     "output_type": "execute_result"
    }
   ],
   "source": [
    "#trx[\"item_name\"].unique()\n",
    "#pd.unique(trx[\"item_name\"])\n",
    "len(trx[\"item_name\"].unique())"
   ]
  },
  {
   "cell_type": "code",
   "execution_count": 12,
   "metadata": {},
   "outputs": [
    {
     "data": {
      "text/plain": [
       "0    상품A\n",
       "1    상품S\n",
       "2    상품A\n",
       "3    상품Z\n",
       "4    상품A\n",
       "Name: item_name, dtype: object"
      ]
     },
     "execution_count": 12,
     "metadata": {},
     "output_type": "execute_result"
    }
   ],
   "source": [
    "trx[\"item_name\"] = trx[\"item_name\"].str.upper()\n",
    "trx[\"item_name\"] = trx[\"item_name\"].str.replace(\" \",\"\")\n",
    "trx[\"item_name\"].head()"
   ]
  },
  {
   "cell_type": "code",
   "execution_count": 13,
   "metadata": {},
   "outputs": [
    {
     "data": {
      "text/plain": [
       "26"
      ]
     },
     "execution_count": 13,
     "metadata": {},
     "output_type": "execute_result"
    }
   ],
   "source": [
    "len(trx[\"item_name\"].unique())"
   ]
  },
  {
   "cell_type": "markdown",
   "metadata": {},
   "source": [
    "### 테크닉 . 고객명 수정"
   ]
  },
  {
   "cell_type": "code",
   "execution_count": 14,
   "metadata": {},
   "outputs": [
    {
     "data": {
      "text/plain": [
       "0    김현성\n",
       "1    김도윤\n",
       "2    김지한\n",
       "3    김하윤\n",
       "4    김시온\n",
       "Name: 고객이름, dtype: object"
      ]
     },
     "execution_count": 14,
     "metadata": {},
     "output_type": "execute_result"
    }
   ],
   "source": [
    "customer[\"고객이름\"] = customer[\"고객이름\"].str.replace(\"  \", \"\")\n",
    "customer[\"고객이름\"] = customer[\"고객이름\"].str.replace(\" \", \"\")\n",
    "customer[\"고객이름\"].head()"
   ]
  },
  {
   "cell_type": "markdown",
   "metadata": {},
   "source": [
    "### 테크닉. 금액 결측치 수정"
   ]
  },
  {
   "cell_type": "code",
   "execution_count": 15,
   "metadata": {},
   "outputs": [
    {
     "data": {
      "text/plain": [
       "purchase_date     False\n",
       "item_name         False\n",
       "item_price         True\n",
       "customer_name     False\n",
       "purchase_month    False\n",
       "dtype: bool"
      ]
     },
     "execution_count": 15,
     "metadata": {},
     "output_type": "execute_result"
    }
   ],
   "source": [
    "trx.isnull().any(axis=0)\n",
    "#trx[\"item_price\"].isnull().any(axis=0)"
   ]
  },
  {
   "cell_type": "markdown",
   "metadata": {},
   "source": [
    "#### loc에 대해서.."
   ]
  },
  {
   "cell_type": "code",
   "execution_count": 16,
   "metadata": {},
   "outputs": [
    {
     "data": {
      "text/html": [
       "<div>\n",
       "<style scoped>\n",
       "    .dataframe tbody tr th:only-of-type {\n",
       "        vertical-align: middle;\n",
       "    }\n",
       "\n",
       "    .dataframe tbody tr th {\n",
       "        vertical-align: top;\n",
       "    }\n",
       "\n",
       "    .dataframe thead th {\n",
       "        text-align: right;\n",
       "    }\n",
       "</style>\n",
       "<table border=\"1\" class=\"dataframe\">\n",
       "  <thead>\n",
       "    <tr style=\"text-align: right;\">\n",
       "      <th></th>\n",
       "      <th>country</th>\n",
       "      <th>continent</th>\n",
       "      <th>port</th>\n",
       "    </tr>\n",
       "  </thead>\n",
       "  <tbody>\n",
       "    <tr>\n",
       "      <th>Busan</th>\n",
       "      <td>Korea</td>\n",
       "      <td>Asia</td>\n",
       "      <td>True</td>\n",
       "    </tr>\n",
       "    <tr>\n",
       "      <th>Chicago</th>\n",
       "      <td>USA</td>\n",
       "      <td>North America</td>\n",
       "      <td>False</td>\n",
       "    </tr>\n",
       "    <tr>\n",
       "      <th>Paris</th>\n",
       "      <td>France</td>\n",
       "      <td>Europe</td>\n",
       "      <td>False</td>\n",
       "    </tr>\n",
       "  </tbody>\n",
       "</table>\n",
       "</div>"
      ],
      "text/plain": [
       "        country      continent   port\n",
       "Busan     Korea           Asia   True\n",
       "Chicago     USA  North America  False\n",
       "Paris    France         Europe  False"
      ]
     },
     "execution_count": 16,
     "metadata": {},
     "output_type": "execute_result"
    }
   ],
   "source": [
    "city = pd.DataFrame(\n",
    "    [\n",
    "        [\"Korea\",\"Asia\",True],\n",
    "        [\"USA\",\"North America\",False],\n",
    "        [\"France\",\"Europe\",False]\n",
    "    ],\n",
    "    index = [\"Busan\",\"Chicago\",\"Paris\"],\n",
    "    columns = [\"country\",\"continent\",\"port\"]\n",
    ")\n",
    "city"
   ]
  },
  {
   "cell_type": "code",
   "execution_count": 17,
   "metadata": {},
   "outputs": [
    {
     "data": {
      "text/html": [
       "<div>\n",
       "<style scoped>\n",
       "    .dataframe tbody tr th:only-of-type {\n",
       "        vertical-align: middle;\n",
       "    }\n",
       "\n",
       "    .dataframe tbody tr th {\n",
       "        vertical-align: top;\n",
       "    }\n",
       "\n",
       "    .dataframe thead th {\n",
       "        text-align: right;\n",
       "    }\n",
       "</style>\n",
       "<table border=\"1\" class=\"dataframe\">\n",
       "  <thead>\n",
       "    <tr style=\"text-align: right;\">\n",
       "      <th></th>\n",
       "      <th>country</th>\n",
       "      <th>continent</th>\n",
       "      <th>port</th>\n",
       "    </tr>\n",
       "  </thead>\n",
       "  <tbody>\n",
       "    <tr>\n",
       "      <th>Busan</th>\n",
       "      <td>Korea</td>\n",
       "      <td>Asia</td>\n",
       "      <td>True</td>\n",
       "    </tr>\n",
       "  </tbody>\n",
       "</table>\n",
       "</div>"
      ],
      "text/plain": [
       "      country continent  port\n",
       "Busan   Korea      Asia  True"
      ]
     },
     "execution_count": 17,
     "metadata": {},
     "output_type": "execute_result"
    }
   ],
   "source": [
    "#loc[조건]\n",
    "city.loc[city[\"country\"] == \"Korea\"]"
   ]
  },
  {
   "cell_type": "code",
   "execution_count": 18,
   "metadata": {},
   "outputs": [
    {
     "data": {
      "text/plain": [
       "Busan    Asia\n",
       "Name: continent, dtype: object"
      ]
     },
     "execution_count": 18,
     "metadata": {},
     "output_type": "execute_result"
    }
   ],
   "source": [
    "# loc[조건, 조회할 칼럼 이름]\n",
    "city.loc[city[\"country\"] == \"Korea\", \"continent\"]"
   ]
  },
  {
   "cell_type": "code",
   "execution_count": 19,
   "metadata": {},
   "outputs": [
    {
     "data": {
      "text/html": [
       "<div>\n",
       "<style scoped>\n",
       "    .dataframe tbody tr th:only-of-type {\n",
       "        vertical-align: middle;\n",
       "    }\n",
       "\n",
       "    .dataframe tbody tr th {\n",
       "        vertical-align: top;\n",
       "    }\n",
       "\n",
       "    .dataframe thead th {\n",
       "        text-align: right;\n",
       "    }\n",
       "</style>\n",
       "<table border=\"1\" class=\"dataframe\">\n",
       "  <thead>\n",
       "    <tr style=\"text-align: right;\">\n",
       "      <th></th>\n",
       "      <th>country</th>\n",
       "      <th>continent</th>\n",
       "      <th>port</th>\n",
       "    </tr>\n",
       "  </thead>\n",
       "  <tbody>\n",
       "    <tr>\n",
       "      <th>Busan</th>\n",
       "      <td>Korea</td>\n",
       "      <td>Asia</td>\n",
       "      <td>True</td>\n",
       "    </tr>\n",
       "  </tbody>\n",
       "</table>\n",
       "</div>"
      ],
      "text/plain": [
       "      country continent  port\n",
       "Busan   Korea      Asia  True"
      ]
     },
     "execution_count": 19,
     "metadata": {},
     "output_type": "execute_result"
    }
   ],
   "source": [
    "#Boolean\n",
    "city.loc[city[\"port\"]]"
   ]
  },
  {
   "cell_type": "code",
   "execution_count": 20,
   "metadata": {},
   "outputs": [
    {
     "data": {
      "text/html": [
       "<div>\n",
       "<style scoped>\n",
       "    .dataframe tbody tr th:only-of-type {\n",
       "        vertical-align: middle;\n",
       "    }\n",
       "\n",
       "    .dataframe tbody tr th {\n",
       "        vertical-align: top;\n",
       "    }\n",
       "\n",
       "    .dataframe thead th {\n",
       "        text-align: right;\n",
       "    }\n",
       "</style>\n",
       "<table border=\"1\" class=\"dataframe\">\n",
       "  <thead>\n",
       "    <tr style=\"text-align: right;\">\n",
       "      <th></th>\n",
       "      <th>country</th>\n",
       "      <th>continent</th>\n",
       "      <th>port</th>\n",
       "    </tr>\n",
       "  </thead>\n",
       "  <tbody>\n",
       "    <tr>\n",
       "      <th>Chicago</th>\n",
       "      <td>USA</td>\n",
       "      <td>North America</td>\n",
       "      <td>False</td>\n",
       "    </tr>\n",
       "    <tr>\n",
       "      <th>Paris</th>\n",
       "      <td>France</td>\n",
       "      <td>Europe</td>\n",
       "      <td>False</td>\n",
       "    </tr>\n",
       "  </tbody>\n",
       "</table>\n",
       "</div>"
      ],
      "text/plain": [
       "        country      continent   port\n",
       "Chicago     USA  North America  False\n",
       "Paris    France         Europe  False"
      ]
     },
     "execution_count": 20,
     "metadata": {},
     "output_type": "execute_result"
    }
   ],
   "source": [
    "#Boolean\n",
    "city.loc[~city[\"port\"]]"
   ]
  },
  {
   "cell_type": "code",
   "execution_count": 21,
   "metadata": {},
   "outputs": [
    {
     "data": {
      "text/html": [
       "<div>\n",
       "<style scoped>\n",
       "    .dataframe tbody tr th:only-of-type {\n",
       "        vertical-align: middle;\n",
       "    }\n",
       "\n",
       "    .dataframe tbody tr th {\n",
       "        vertical-align: top;\n",
       "    }\n",
       "\n",
       "    .dataframe thead th {\n",
       "        text-align: right;\n",
       "    }\n",
       "</style>\n",
       "<table border=\"1\" class=\"dataframe\">\n",
       "  <thead>\n",
       "    <tr style=\"text-align: right;\">\n",
       "      <th></th>\n",
       "      <th>country</th>\n",
       "      <th>continent</th>\n",
       "      <th>port</th>\n",
       "    </tr>\n",
       "  </thead>\n",
       "  <tbody>\n",
       "    <tr>\n",
       "      <th>Busan</th>\n",
       "      <td>Korea</td>\n",
       "      <td>Asia</td>\n",
       "      <td>True</td>\n",
       "    </tr>\n",
       "    <tr>\n",
       "      <th>Paris</th>\n",
       "      <td>France</td>\n",
       "      <td>Europe</td>\n",
       "      <td>False</td>\n",
       "    </tr>\n",
       "  </tbody>\n",
       "</table>\n",
       "</div>"
      ],
      "text/plain": [
       "      country continent   port\n",
       "Busan   Korea      Asia   True\n",
       "Paris  France    Europe  False"
      ]
     },
     "execution_count": 21,
     "metadata": {},
     "output_type": "execute_result"
    }
   ],
   "source": [
    "#복합조건 (or / |)\n",
    "city.loc[(city[\"country\"] == \"Korea\") | (city[\"continent\"] == \"Europe\")]"
   ]
  },
  {
   "cell_type": "code",
   "execution_count": 22,
   "metadata": {},
   "outputs": [
    {
     "data": {
      "text/html": [
       "<div>\n",
       "<style scoped>\n",
       "    .dataframe tbody tr th:only-of-type {\n",
       "        vertical-align: middle;\n",
       "    }\n",
       "\n",
       "    .dataframe tbody tr th {\n",
       "        vertical-align: top;\n",
       "    }\n",
       "\n",
       "    .dataframe thead th {\n",
       "        text-align: right;\n",
       "    }\n",
       "</style>\n",
       "<table border=\"1\" class=\"dataframe\">\n",
       "  <thead>\n",
       "    <tr style=\"text-align: right;\">\n",
       "      <th></th>\n",
       "      <th>country</th>\n",
       "      <th>continent</th>\n",
       "      <th>port</th>\n",
       "    </tr>\n",
       "  </thead>\n",
       "  <tbody>\n",
       "  </tbody>\n",
       "</table>\n",
       "</div>"
      ],
      "text/plain": [
       "Empty DataFrame\n",
       "Columns: [country, continent, port]\n",
       "Index: []"
      ]
     },
     "execution_count": 22,
     "metadata": {},
     "output_type": "execute_result"
    }
   ],
   "source": [
    "#복합조건 (and / &)\n",
    "city.loc[(city[\"country\"] == \"Korea\") & (city[\"continent\"] == \"Europe\")]"
   ]
  },
  {
   "cell_type": "code",
   "execution_count": 23,
   "metadata": {},
   "outputs": [
    {
     "data": {
      "text/plain": [
       "0       False\n",
       "1        True\n",
       "2        True\n",
       "3       False\n",
       "4        True\n",
       "        ...  \n",
       "2994    False\n",
       "2995    False\n",
       "2996     True\n",
       "2997     True\n",
       "2998    False\n",
       "Name: item_price, Length: 2999, dtype: bool"
      ]
     },
     "execution_count": 23,
     "metadata": {},
     "output_type": "execute_result"
    }
   ],
   "source": [
    "trx[\"item_price\"].isnull()"
   ]
  },
  {
   "cell_type": "code",
   "execution_count": 24,
   "metadata": {},
   "outputs": [
    {
     "data": {
      "text/plain": [
       "['상품S',\n",
       " '상품A',\n",
       " '상품A',\n",
       " '상품A',\n",
       " '상품A',\n",
       " '상품P',\n",
       " '상품N',\n",
       " '상품W',\n",
       " '상품R',\n",
       " '상품I',\n",
       " '상품W',\n",
       " '상품L',\n",
       " '상품F',\n",
       " '상품N',\n",
       " '상품O',\n",
       " '상품S',\n",
       " '상품B',\n",
       " '상품C',\n",
       " '상품V',\n",
       " '상품Q',\n",
       " '상품P',\n",
       " '상품I',\n",
       " '상품U',\n",
       " '상품U',\n",
       " '상품C',\n",
       " '상품K',\n",
       " '상품I',\n",
       " '상품T',\n",
       " '상품K',\n",
       " '상품W',\n",
       " '상품X',\n",
       " '상품F',\n",
       " '상품F',\n",
       " '상품Q',\n",
       " '상품E',\n",
       " '상품N',\n",
       " '상품X',\n",
       " '상품P',\n",
       " '상품O',\n",
       " '상품B',\n",
       " '상품U',\n",
       " '상품U',\n",
       " '상품Q',\n",
       " '상품S',\n",
       " '상품V',\n",
       " '상품A',\n",
       " '상품M',\n",
       " '상품R',\n",
       " '상품V',\n",
       " '상품T',\n",
       " '상품W',\n",
       " '상품G',\n",
       " '상품G',\n",
       " '상품W',\n",
       " '상품Q',\n",
       " '상품A',\n",
       " '상품E',\n",
       " '상품S',\n",
       " '상품V',\n",
       " '상품K',\n",
       " '상품N',\n",
       " '상품R',\n",
       " '상품R',\n",
       " '상품W',\n",
       " '상품F',\n",
       " '상품C',\n",
       " '상품J',\n",
       " '상품F',\n",
       " '상품S',\n",
       " '상품B',\n",
       " '상품D',\n",
       " '상품R',\n",
       " '상품W',\n",
       " '상품V',\n",
       " '상품T',\n",
       " '상품D',\n",
       " '상품E',\n",
       " '상품V',\n",
       " '상품X',\n",
       " '상품I',\n",
       " '상품V',\n",
       " '상품V',\n",
       " '상품B',\n",
       " '상품M',\n",
       " '상품F',\n",
       " '상품F',\n",
       " '상품Q',\n",
       " '상품R',\n",
       " '상품N',\n",
       " '상품W',\n",
       " '상품N',\n",
       " '상품L',\n",
       " '상품A',\n",
       " '상품C',\n",
       " '상품V',\n",
       " '상품L',\n",
       " '상품T',\n",
       " '상품R',\n",
       " '상품X',\n",
       " '상품S',\n",
       " '상품M',\n",
       " '상품C',\n",
       " '상품W',\n",
       " '상품N',\n",
       " '상품E',\n",
       " '상품F',\n",
       " '상품X',\n",
       " '상품K',\n",
       " '상품X',\n",
       " '상품B',\n",
       " '상품W',\n",
       " '상품C',\n",
       " '상품R',\n",
       " '상품A',\n",
       " '상품N',\n",
       " '상품A',\n",
       " '상품C',\n",
       " '상품V',\n",
       " '상품S',\n",
       " '상품Q',\n",
       " '상품D',\n",
       " '상품S',\n",
       " '상품K',\n",
       " '상품C',\n",
       " '상품R',\n",
       " '상품A',\n",
       " '상품G',\n",
       " '상품X',\n",
       " '상품X',\n",
       " '상품B',\n",
       " '상품O',\n",
       " '상품V',\n",
       " '상품H',\n",
       " '상품N',\n",
       " '상품I',\n",
       " '상품R',\n",
       " '상품S',\n",
       " '상품L',\n",
       " '상품X',\n",
       " '상품V',\n",
       " '상품H',\n",
       " '상품N',\n",
       " '상품K',\n",
       " '상품C',\n",
       " '상품H',\n",
       " '상품N',\n",
       " '상품K',\n",
       " '상품B',\n",
       " '상품B',\n",
       " '상품Q',\n",
       " '상품W',\n",
       " '상품V',\n",
       " '상품O',\n",
       " '상품D',\n",
       " '상품I',\n",
       " '상품Q',\n",
       " '상품G',\n",
       " '상품V',\n",
       " '상품G',\n",
       " '상품A',\n",
       " '상품P',\n",
       " '상품C',\n",
       " '상품D',\n",
       " '상품S',\n",
       " '상품L',\n",
       " '상품G',\n",
       " '상품G',\n",
       " '상품T',\n",
       " '상품S',\n",
       " '상품A',\n",
       " '상품E',\n",
       " '상품J',\n",
       " '상품C',\n",
       " '상품X',\n",
       " '상품W',\n",
       " '상품S',\n",
       " '상품A',\n",
       " '상품P',\n",
       " '상품P',\n",
       " '상품C',\n",
       " '상품U',\n",
       " '상품N',\n",
       " '상품O',\n",
       " '상품L',\n",
       " '상품K',\n",
       " '상품J',\n",
       " '상품T',\n",
       " '상품S',\n",
       " '상품S',\n",
       " '상품W',\n",
       " '상품Y',\n",
       " '상품E',\n",
       " '상품I',\n",
       " '상품T',\n",
       " '상품Q',\n",
       " '상품T',\n",
       " '상품R',\n",
       " '상품O',\n",
       " '상품S',\n",
       " '상품D',\n",
       " '상품Q',\n",
       " '상품T',\n",
       " '상품O',\n",
       " '상품B',\n",
       " '상품O',\n",
       " '상품I',\n",
       " '상품E',\n",
       " '상품J',\n",
       " '상품L',\n",
       " '상품R',\n",
       " '상품M',\n",
       " '상품K',\n",
       " '상품F',\n",
       " '상품X',\n",
       " '상품C',\n",
       " '상품Y',\n",
       " '상품F',\n",
       " '상품Y',\n",
       " '상품K',\n",
       " '상품G',\n",
       " '상품C',\n",
       " '상품X',\n",
       " '상품M',\n",
       " '상품V',\n",
       " '상품Q',\n",
       " '상품U',\n",
       " '상품L',\n",
       " '상품V',\n",
       " '상품V',\n",
       " '상품U',\n",
       " '상품D',\n",
       " '상품Y',\n",
       " '상품U',\n",
       " '상품K',\n",
       " '상품V',\n",
       " '상품C',\n",
       " '상품A',\n",
       " '상품K',\n",
       " '상품O',\n",
       " '상품F',\n",
       " '상품E',\n",
       " '상품Q',\n",
       " '상품N',\n",
       " '상품Q',\n",
       " '상품M',\n",
       " '상품W',\n",
       " '상품M',\n",
       " '상품A',\n",
       " '상품E',\n",
       " '상품V',\n",
       " '상품Q',\n",
       " '상품P',\n",
       " '상품L',\n",
       " '상품A',\n",
       " '상품J',\n",
       " '상품B',\n",
       " '상품H',\n",
       " '상품S',\n",
       " '상품W',\n",
       " '상품M',\n",
       " '상품R',\n",
       " '상품A',\n",
       " '상품K',\n",
       " '상품G',\n",
       " '상품B',\n",
       " '상품O',\n",
       " '상품G',\n",
       " '상품F',\n",
       " '상품R',\n",
       " '상품J',\n",
       " '상품Y',\n",
       " '상품K',\n",
       " '상품G',\n",
       " '상품O',\n",
       " '상품Y',\n",
       " '상품F',\n",
       " '상품J',\n",
       " '상품F',\n",
       " '상품J',\n",
       " '상품I',\n",
       " '상품Q',\n",
       " '상품V',\n",
       " '상품F',\n",
       " '상품R',\n",
       " '상품K',\n",
       " '상품H',\n",
       " '상품B',\n",
       " '상품W',\n",
       " '상품I',\n",
       " '상품J',\n",
       " '상품W',\n",
       " '상품J',\n",
       " '상품T',\n",
       " '상품R',\n",
       " '상품G',\n",
       " '상품D',\n",
       " '상품A',\n",
       " '상품S',\n",
       " '상품D',\n",
       " '상품C',\n",
       " '상품L',\n",
       " '상품C',\n",
       " '상품J',\n",
       " '상품E',\n",
       " '상품W',\n",
       " '상품X',\n",
       " '상품U',\n",
       " '상품S',\n",
       " '상품B',\n",
       " '상품F',\n",
       " '상품F',\n",
       " '상품W',\n",
       " '상품Y',\n",
       " '상품C',\n",
       " '상품B',\n",
       " '상품I',\n",
       " '상품S',\n",
       " '상품L',\n",
       " '상품Y',\n",
       " '상품S',\n",
       " '상품M',\n",
       " '상품W',\n",
       " '상품I',\n",
       " '상품Y',\n",
       " '상품S',\n",
       " '상품F',\n",
       " '상품P',\n",
       " '상품U',\n",
       " '상품K',\n",
       " '상품W',\n",
       " '상품F',\n",
       " '상품T',\n",
       " '상품R',\n",
       " '상품J',\n",
       " '상품T',\n",
       " '상품U',\n",
       " '상품A',\n",
       " '상품P',\n",
       " '상품W',\n",
       " '상품G',\n",
       " '상품X',\n",
       " '상품J',\n",
       " '상품X',\n",
       " '상품A',\n",
       " '상품G',\n",
       " '상품N',\n",
       " '상품D',\n",
       " '상품C',\n",
       " '상품A',\n",
       " '상품M',\n",
       " '상품V',\n",
       " '상품Y',\n",
       " '상품B',\n",
       " '상품B',\n",
       " '상품J',\n",
       " '상품E',\n",
       " '상품E',\n",
       " '상품Y',\n",
       " '상품V',\n",
       " '상품S',\n",
       " '상품I',\n",
       " '상품N',\n",
       " '상품J',\n",
       " '상품A',\n",
       " '상품V',\n",
       " '상품Y',\n",
       " '상품H',\n",
       " '상품Q',\n",
       " '상품S',\n",
       " '상품H',\n",
       " '상품Y',\n",
       " '상품Y',\n",
       " '상품B',\n",
       " '상품I',\n",
       " '상품N',\n",
       " '상품B',\n",
       " '상품E',\n",
       " '상품S',\n",
       " '상품O',\n",
       " '상품Q',\n",
       " '상품X',\n",
       " '상품X',\n",
       " '상품K',\n",
       " '상품O',\n",
       " '상품C',\n",
       " '상품Q',\n",
       " '상품H']"
      ]
     },
     "execution_count": 24,
     "metadata": {},
     "output_type": "execute_result"
    }
   ],
   "source": [
    "# loc[조건, 조회할 컬럼]\n",
    "list(trx.loc[trx[\"item_price\"].isnull(),\"item_name\"])"
   ]
  },
  {
   "cell_type": "code",
   "execution_count": 25,
   "metadata": {},
   "outputs": [
    {
     "data": {
      "text/plain": [
       "100.0"
      ]
     },
     "execution_count": 25,
     "metadata": {},
     "output_type": "execute_result"
    }
   ],
   "source": [
    "# 조건 : (~trx[\"item_price\"].isnull()) & (trx[\"item_name\"] == \"상품A\")\n",
    "trx.loc[(trx[\"item_name\"] == \"상품A\"), \"item_price\"].max()"
   ]
  },
  {
   "cell_type": "code",
   "execution_count": 26,
   "metadata": {},
   "outputs": [
    {
     "data": {
      "text/plain": [
       "2      NaN\n",
       "4      NaN\n",
       "6      NaN\n",
       "14     NaN\n",
       "300    NaN\n",
       "361    NaN\n",
       "667    NaN\n",
       "838    NaN\n",
       "844    NaN\n",
       "957    NaN\n",
       "1260   NaN\n",
       "1394   NaN\n",
       "1474   NaN\n",
       "1892   NaN\n",
       "1937   NaN\n",
       "1977   NaN\n",
       "2063   NaN\n",
       "2278   NaN\n",
       "2636   NaN\n",
       "2669   NaN\n",
       "2732   NaN\n",
       "2821   NaN\n",
       "Name: item_price, dtype: float64"
      ]
     },
     "execution_count": 26,
     "metadata": {},
     "output_type": "execute_result"
    }
   ],
   "source": [
    "# loc[조건]\n",
    "trx.loc[(trx[\"item_price\"].isnull()) & (trx[\"item_name\"] == \"상품A\"), \"item_price\"]"
   ]
  },
  {
   "cell_type": "code",
   "execution_count": 27,
   "metadata": {},
   "outputs": [
    {
     "name": "stderr",
     "output_type": "stream",
     "text": [
      "/opt/anaconda3/lib/python3.7/site-packages/pandas/core/indexing.py:670: SettingWithCopyWarning: \n",
      "A value is trying to be set on a copy of a slice from a DataFrame\n",
      "\n",
      "See the caveats in the documentation: https://pandas.pydata.org/pandas-docs/stable/user_guide/indexing.html#returning-a-view-versus-a-copy\n",
      "  self._setitem_with_indexer(indexer, value)\n"
     ]
    }
   ],
   "source": [
    "price_null = trx[\"item_price\"].isnull()\n",
    "\n",
    "for item in list(trx.loc[price_null, \"item_name\"]):\n",
    "    price = trx.loc[trx[\"item_name\"] == item, \"item_price\"].max()\n",
    "    trx[\"item_price\"].loc[(price_null) & (trx[\"item_name\"] == item)] = price"
   ]
  },
  {
   "cell_type": "code",
   "execution_count": 28,
   "metadata": {},
   "outputs": [
    {
     "data": {
      "text/plain": [
       "0       False\n",
       "1       False\n",
       "2       False\n",
       "3       False\n",
       "4       False\n",
       "        ...  \n",
       "2994    False\n",
       "2995    False\n",
       "2996    False\n",
       "2997    False\n",
       "2998    False\n",
       "Name: item_price, Length: 2999, dtype: bool"
      ]
     },
     "execution_count": 28,
     "metadata": {},
     "output_type": "execute_result"
    }
   ],
   "source": [
    "trx[\"item_price\"].isnull()"
   ]
  },
  {
   "cell_type": "code",
   "execution_count": 31,
   "metadata": {},
   "outputs": [
    {
     "data": {
      "text/html": [
       "<div>\n",
       "<style scoped>\n",
       "    .dataframe tbody tr th:only-of-type {\n",
       "        vertical-align: middle;\n",
       "    }\n",
       "\n",
       "    .dataframe tbody tr th {\n",
       "        vertical-align: top;\n",
       "    }\n",
       "\n",
       "    .dataframe thead th {\n",
       "        text-align: right;\n",
       "    }\n",
       "</style>\n",
       "<table border=\"1\" class=\"dataframe\">\n",
       "  <thead>\n",
       "    <tr style=\"text-align: right;\">\n",
       "      <th></th>\n",
       "      <th>item_price</th>\n",
       "      <th>item_name</th>\n",
       "    </tr>\n",
       "  </thead>\n",
       "  <tbody>\n",
       "    <tr>\n",
       "      <th>0</th>\n",
       "      <td>100.0</td>\n",
       "      <td>상품A</td>\n",
       "    </tr>\n",
       "    <tr>\n",
       "      <th>1</th>\n",
       "      <td>1900.0</td>\n",
       "      <td>상품S</td>\n",
       "    </tr>\n",
       "    <tr>\n",
       "      <th>2</th>\n",
       "      <td>100.0</td>\n",
       "      <td>상품A</td>\n",
       "    </tr>\n",
       "    <tr>\n",
       "      <th>3</th>\n",
       "      <td>2600.0</td>\n",
       "      <td>상품Z</td>\n",
       "    </tr>\n",
       "    <tr>\n",
       "      <th>4</th>\n",
       "      <td>100.0</td>\n",
       "      <td>상품A</td>\n",
       "    </tr>\n",
       "  </tbody>\n",
       "</table>\n",
       "</div>"
      ],
      "text/plain": [
       "   item_price item_name\n",
       "0       100.0       상품A\n",
       "1      1900.0       상품S\n",
       "2       100.0       상품A\n",
       "3      2600.0       상품Z\n",
       "4       100.0       상품A"
      ]
     },
     "execution_count": 31,
     "metadata": {},
     "output_type": "execute_result"
    }
   ],
   "source": [
    "trx[[\"item_price\", \"item_name\"]].head()"
   ]
  }
 ],
 "metadata": {
  "kernelspec": {
   "display_name": "Python 3",
   "language": "python",
   "name": "python3"
  },
  "language_info": {
   "codemirror_mode": {
    "name": "ipython",
    "version": 3
   },
   "file_extension": ".py",
   "mimetype": "text/x-python",
   "name": "python",
   "nbconvert_exporter": "python",
   "pygments_lexer": "ipython3",
   "version": "3.7.6"
  }
 },
 "nbformat": 4,
 "nbformat_minor": 4
}
