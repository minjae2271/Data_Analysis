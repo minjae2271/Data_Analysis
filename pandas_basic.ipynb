{
 "cells": [
  {
   "cell_type": "code",
   "execution_count": null,
   "metadata": {},
   "outputs": [],
   "source": [
    "import pandas as pd"
   ]
  },
  {
   "cell_type": "code",
   "execution_count": null,
   "metadata": {},
   "outputs": [],
   "source": [
    "# 1. 데이터프레임 생성하기\n",
    "df = pd.DataFrame(\n",
    "    {\n",
    "    #column\n",
    "    \"a\" : [4 ,5, 6],\n",
    "    \"b\" : [7, 8, 9],\n",
    "    \"c\" : [10, 11, 12]\n",
    "    },\n",
    "    #row, index 갯수 == column원소 갯수\n",
    "    index = [1, 2, 3])\n",
    "\n",
    "print(df)"
   ]
  },
  {
   "cell_type": "code",
   "execution_count": null,
   "metadata": {},
   "outputs": [],
   "source": [
    "df = pd.DataFrame(\n",
    "    [[4, 7, 10],\n",
    "    [5, 8, 11],\n",
    "    [6, 9, 12]],\n",
    "    index=[1, 2, 3],\n",
    "    columns=['a', 'b', 'c'])\n",
    "\n",
    "print(df)"
   ]
  },
  {
   "cell_type": "code",
   "execution_count": null,
   "metadata": {},
   "outputs": [],
   "source": [
    "#2-1.Subset Observations (ROW)\n",
    "\n",
    "df = pd.DataFrame(\n",
    "    [[0, 0, 0],\n",
    "    [1, 1, 1],\n",
    "    [2, 2, 2],\n",
    "    [1,1,1],\n",
    "    [12,12,12],\n",
    "    [3,3,3],\n",
    "    [4,4,4],\n",
    "    [5,5,5]],\n",
    "    index=[1, 2, 3, 4, 5, 6, 7, 8],\n",
    "    columns=['a', 'b', 'c'])\n",
    "\n",
    "print(df.head())\n",
    "print(df.tail())"
   ]
  },
  {
   "cell_type": "code",
   "execution_count": null,
   "metadata": {},
   "outputs": [],
   "source": [
    "#2-1.지정한 범위의 row\n",
    "\n",
    "df.iloc[2:4]"
   ]
  },
  {
   "cell_type": "code",
   "execution_count": null,
   "metadata": {},
   "outputs": [],
   "source": [
    "#2-2. Subset Observations (COLUMN)\n",
    "\n",
    "df[\"a\"]"
   ]
  },
  {
   "cell_type": "code",
   "execution_count": null,
   "metadata": {},
   "outputs": [],
   "source": [
    "#2-2. Subset Observations (COLUMN)\n",
    "\n",
    "df[[\"a\",\"c\"]]"
   ]
  },
  {
   "cell_type": "code",
   "execution_count": null,
   "metadata": {},
   "outputs": [],
   "source": [
    "#2-2. b 와 d(d는 미포함) 사이의 모든 컬럼 선택\n",
    "\n",
    "df.loc[:,'b':'d']"
   ]
  },
  {
   "cell_type": "code",
   "execution_count": null,
   "metadata": {},
   "outputs": [],
   "source": [
    "#2-2. 컬럼 1, 2, 5 선택(첫 컬럼은 0)\n",
    "\n",
    "df.iloc[:,[0,2]]"
   ]
  },
  {
   "cell_type": "code",
   "execution_count": null,
   "metadata": {},
   "outputs": [],
   "source": [
    "#3. 인덱스정보, 컬럼정보, 데이터값 정보 조회\n",
    "\n",
    "print(df.index)\n",
    "\n",
    "print(df.columns)\n",
    "\n",
    "print(df.values)"
   ]
  },
  {
   "cell_type": "code",
   "execution_count": null,
   "metadata": {},
   "outputs": [],
   "source": [
    "#4. Order rows by values of a column (low to high).\n",
    "\n",
    "df.sort_values(by='a')"
   ]
  },
  {
   "cell_type": "code",
   "execution_count": null,
   "metadata": {},
   "outputs": [],
   "source": [
    "#4. Order rows by values of a column (high to low).\n",
    "\n",
    "df.sort_values(by='a', ascending=False)"
   ]
  },
  {
   "cell_type": "code",
   "execution_count": null,
   "metadata": {},
   "outputs": [],
   "source": [
    "# 5-1. 데이터프레임 병합 : row\n",
    "\n",
    "#1분기 모델별 컴플레인 \n",
    "df1 = pd.DataFrame(\n",
    "    {\n",
    "        \"models\" : [5,5,5],\n",
    "        \"modelx\" : [7,3,2],\n",
    "        \"model3\" : [2,4,4]\n",
    "    },\n",
    "    index = [\"1월\",\"2월\",\"3월\"])\n",
    "\n",
    "#2분기 모델별 컴플레인\n",
    "df2 = pd.DataFrame(\n",
    "    {\n",
    "        \"models\" : [0,1,4],\n",
    "        \"modelx\" : [7,1,2],\n",
    "        \"model3\" : [2,4,4]\n",
    "    },\n",
    "    index = [\"9월\",\"8월\",\"7월\"])\n",
    "\n",
    "pd.concat([df1,df2])"
   ]
  },
  {
   "cell_type": "code",
   "execution_count": null,
   "metadata": {},
   "outputs": [],
   "source": [
    "# 5-2. 데이터프레임 병합 : column\n",
    "\n",
    "# 지역별 컴플레인 \n",
    "df1 = pd.DataFrame(\n",
    "    {\n",
    "        \"서울\" : [5,5,5],\n",
    "        \"경기\" : [7,3,2],\n",
    "        \"충청\" : [2,4,4]\n",
    "    },\n",
    "    index = [\"models\",\"modelx\",\"model3\"])\n",
    "\n",
    "#2분기 모델별 컴플레인\n",
    "df2 = pd.DataFrame(\n",
    "    {\n",
    "        \"충북\" : [0,1,4],\n",
    "        \"강원\" : [7,1,2],\n",
    "        \"경북\" : [2,4,4]\n",
    "    },\n",
    "    index = [\"models\",\"modelx\",\"model3\"])\n",
    "\n",
    "pd.concat([df1,df2], axis=1)"
   ]
  }
 ],
 "metadata": {
  "kernelspec": {
   "display_name": "Python 3",
   "language": "python",
   "name": "python3"
  },
  "language_info": {
   "codemirror_mode": {
    "name": "ipython",
    "version": 3
   },
   "file_extension": ".py",
   "mimetype": "text/x-python",
   "name": "python",
   "nbconvert_exporter": "python",
   "pygments_lexer": "ipython3",
   "version": "3.7.6"
  }
 },
 "nbformat": 4,
 "nbformat_minor": 4
}
